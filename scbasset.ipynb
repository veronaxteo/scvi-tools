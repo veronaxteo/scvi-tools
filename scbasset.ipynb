{
 "cells": [
  {
   "cell_type": "markdown",
   "metadata": {},
   "source": [
    "# scbasset implementation"
   ]
  },
  {
   "cell_type": "markdown",
   "metadata": {},
   "source": [
    "## outline\n",
    "**1. write static method that:**\n",
    "- downloads DNA seq\n",
    "- add sequences from fasta to anndata\n",
    "- adds regions x 1344 sparse matrix\n",
    "    - adata.varm['dna'] and ints of each a,c,t,g (0,1,2,3)\n",
    "- take transpose: bdata = adata.transpose()\n",
    "- SCBASSET.add_seqs(adata, species:str)\n",
    "\n",
    "**2. implement model in pytorch lightning**\n",
    "- use anndataloader\n",
    "    - x.varm['codes'] --> ADL --> for md in ADL: mb['codes'] (regions x 1334 x 4 matrix) and mb['x'] (loss)\n",
    "    \n",
    "## resources\n",
    "- [scvi-intro-colab](https://colab.research.google.com/drive/1RSm8IU3NK-xGNiRTDcTnX8Hbcj0gS_1S)\n",
    "- [scvi-data-loading](https://colab.research.google.com/drive/1iQOo2SoqNSC_uRPt9jiTA8xUaV4-909K#scrollTo=5-_VxGJ9xWaW)\n",
    "- [scvi-peakvi](https://colab.research.google.com/github/scverse/scvi-tutorials/blob/0.17.4/PeakVI.ipynb)"
   ]
  },
  {
   "cell_type": "code",
   "execution_count": 2,
   "metadata": {},
   "outputs": [
    {
     "name": "stderr",
     "output_type": "stream",
     "text": [
      "Global seed set to 0\n",
      "/Users/veronateo/opt/anaconda3/envs/scvi-tools-dev/lib/python3.10/site-packages/pytorch_lightning/utilities/warnings.py:53: LightningDeprecationWarning: pytorch_lightning.utilities.warnings.rank_zero_deprecation has been deprecated in v1.6 and will be removed in v1.8. Use the equivalent function from the pytorch_lightning.utilities.rank_zero module instead.\n",
      "  new_rank_zero_deprecation(\n",
      "/Users/veronateo/opt/anaconda3/envs/scvi-tools-dev/lib/python3.10/site-packages/pytorch_lightning/utilities/warnings.py:58: LightningDeprecationWarning: The `pytorch_lightning.loggers.base.rank_zero_experiment` is deprecated in v1.7 and will be removed in v1.9. Please use `pytorch_lightning.loggers.logger.rank_zero_experiment` instead.\n",
      "  return new_rank_zero_deprecation(*args, **kwargs)\n"
     ]
    }
   ],
   "source": [
    "import os\n",
    "from pathlib import Path\n",
    "import scvi\n",
    "import anndata\n",
    "from anndata import AnnData\n",
    "import pandas as pd\n",
    "import numpy as np\n",
    "import scanpy as sc\n",
    "import torch\n",
    "import torch.nn as nn\n",
    "import torch.nn.functional as F\n",
    "import torch.optim as optim\n",
    "import pysam\n",
    "import random\n",
    "import scipy"
   ]
  },
  {
   "cell_type": "markdown",
   "metadata": {},
   "source": [
    "## preprocess\n",
    "### download fasta file\n",
    "- use gget\n",
    "- from scbasset, make_bed_seqs_from_df\n",
    "    - reimplement this function\n",
    "    - pysam package\n",
    "- scvi.data.read_10x_atac\n",
    "- adata.var has the coordinates\n",
    "    - index is regions"
   ]
  },
  {
   "cell_type": "code",
   "execution_count": 3,
   "metadata": {},
   "outputs": [
    {
     "name": "stdout",
     "output_type": "stream",
     "text": [
      "--2022-11-29 19:23:51--  https://cf.10xgenomics.com/samples/cell-atac/1.2.0/atac_pbmc_5k_nextgem/atac_pbmc_5k_nextgem_filtered_peak_bc_matrix.tar.bgz\n",
      "Resolving cf.10xgenomics.com (cf.10xgenomics.com)... 2606:4700::6812:ad, 2606:4700::6812:1ad, 104.18.1.173, ...\n",
      "Connecting to cf.10xgenomics.com (cf.10xgenomics.com)|2606:4700::6812:ad|:443... connected.\n",
      "HTTP request sent, awaiting response... 403 Forbidden\n",
      "2022-11-29 19:23:55 ERROR 403: Forbidden.\n",
      "\n",
      "tar: Error opening archive: Failed to open 'atac_pbmc_5k_nextgem_filtered_peak_bc_matrix.tar.bgz'\n"
     ]
    }
   ],
   "source": [
    "# download sample data\n",
    "## 10x atac pbmc 5k nextgem data\n",
    "!wget https://cf.10xgenomics.com/samples/cell-atac/1.2.0/atac_pbmc_5k_nextgem/atac_pbmc_5k_nextgem_filtered_peak_bc_matrix.tar.bgz\n",
    "!tar -xvf atac_pbmc_5k_nextgem_filtered_peak_bc_matrix.tar.bgz"
   ]
  },
  {
   "cell_type": "code",
   "execution_count": 4,
   "metadata": {},
   "outputs": [
    {
     "name": "stderr",
     "output_type": "stream",
     "text": [
      "/Users/veronateo/research/yoseflab/scvi-tools/scvi/data/_read.py:44: FutureWarning: X.dtype being converted to np.float32 from int64. In the next version of anndata (0.9) conversion will not be automatic. Pass dtype explicitly to avoid this warning. Pass `AnnData(X, dtype=X.dtype, ...)` to get the future behavour.\n",
      "  return AnnData(data.tocsr(), var=coords, obs=cell_annot)\n"
     ]
    },
    {
     "data": {
      "text/plain": [
       "AnnData object with n_obs × n_vars = 4585 × 115554\n",
       "    obs: 'batch_id'\n",
       "    var: 'chr', 'start', 'end'"
      ]
     },
     "execution_count": 4,
     "metadata": {},
     "output_type": "execute_result"
    }
   ],
   "source": [
    "# read data\n",
    "adata = scvi.data.read_10x_atac(\"filtered_peak_bc_matrix\")\n",
    "adata"
   ]
  },
  {
   "cell_type": "code",
   "execution_count": 5,
   "metadata": {},
   "outputs": [
    {
     "name": "stdout",
     "output_type": "stream",
     "text": [
      "--2022-11-29 19:25:09--  https://storage.googleapis.com/scbasset_tutorial_data/Homo_sapiens_motif_fasta.tar.bgz\n",
      "Resolving storage.googleapis.com (storage.googleapis.com)... 2607:f8b0:4005:814::2010, 2607:f8b0:4005:80d::2010, 2607:f8b0:4005:811::2010, ...\n",
      "Connecting to storage.googleapis.com (storage.googleapis.com)|2607:f8b0:4005:814::2010|:443... connected.\n",
      "HTTP request sent, awaiting response... 404 Not Found\n",
      "2022-11-29 19:25:09 ERROR 404: Not Found.\n",
      "\n",
      "tar: Error opening archive: Failed to open 'Homo_sapiens_motif_fasta.tar.bgz'\n"
     ]
    }
   ],
   "source": [
    "# download sample fasta file\n",
    "## from scbasset tutorial, homo sapiens motif fasta file\n",
    "!wget https://storage.googleapis.com/scbasset_tutorial_data/Homo_sapiens_motif_fasta.tar.bgz\n",
    "!tar -xvf Homo_sapiens_motif_fasta.tar.bgz"
   ]
  },
  {
   "cell_type": "code",
   "execution_count": 6,
   "metadata": {},
   "outputs": [],
   "source": [
    "# import subprocess\n",
    "\n",
    "# download_savepath = '../data/downloads'\n",
    "# os.makedirs(download_savepath, exist_ok=True)\n",
    "\n",
    "# if not os.path.exists('%s/Homo_sapiens_motif_fasta.tar.bgz'%download_savepath):\n",
    "#     subprocess.run('wget -P %s https://storage.googleapis.com/scbasset_tutorial_data/Homo_sapiens_motif_fasta.tar.bgz'%download_savepath, shell=True)\n",
    "# subprocess.run('tar -xzf %s/Homo_sapiens_motif_fasta.tar.bgz -C %s/'%(download_savepath, download_savepath), shell=True)"
   ]
  },
  {
   "cell_type": "code",
   "execution_count": 7,
   "metadata": {},
   "outputs": [],
   "source": [
    "# fasta path for example peaks\n",
    "fasta_path = \"Homo_sapiens_motif_fasta/example_peaks.fasta\""
   ]
  },
  {
   "cell_type": "code",
   "execution_count": 8,
   "metadata": {},
   "outputs": [
    {
     "name": "stdout",
     "output_type": "stream",
     "text": [
      "--2022-11-29 19:25:11--  https://cf.10xgenomics.com/samples/cell-atac/1.2.0/atac_pbmc_5k_nextgem/atac_pbmc_5k_nextgem_filtered_peak_bc_matrix.tar.gz\n",
      "Resolving cf.10xgenomics.com (cf.10xgenomics.com)... 2606:4700::6812:1ad, 2606:4700::6812:ad, 104.18.1.173, ...\n",
      "Connecting to cf.10xgenomics.com (cf.10xgenomics.com)|2606:4700::6812:1ad|:443... connected.\n",
      "HTTP request sent, awaiting response... 200 OK\n",
      "Length: 114015463 (109M) [application/x-tar]\n",
      "Saving to: ‘atac_pbmc_5k_nextgem_filtered_peak_bc_matrix.tar.gz.2’\n",
      "\n",
      "atac_pbmc_5k_nextge 100%[===================>] 108.73M   817KB/s    in 2m 12s  \n",
      "\n",
      "2022-11-29 19:27:23 (847 KB/s) - ‘atac_pbmc_5k_nextgem_filtered_peak_bc_matrix.tar.gz.2’ saved [114015463/114015463]\n",
      "\n",
      "x filtered_peak_bc_matrix/\n",
      "x filtered_peak_bc_matrix/matrix.mtx\n",
      "x filtered_peak_bc_matrix/peaks.bed\n",
      "x filtered_peak_bc_matrix/barcodes.tsv\n"
     ]
    }
   ],
   "source": [
    "!wget https://cf.10xgenomics.com/samples/cell-atac/1.2.0/atac_pbmc_5k_nextgem/atac_pbmc_5k_nextgem_filtered_peak_bc_matrix.tar.gz\n",
    "!tar -xvf atac_pbmc_5k_nextgem_filtered_peak_bc_matrix.tar.gz"
   ]
  },
  {
   "cell_type": "code",
   "execution_count": 9,
   "metadata": {},
   "outputs": [
    {
     "name": "stderr",
     "output_type": "stream",
     "text": [
      "/var/folders/d7/1wc5nlyn0mz6bzq0rrdrq6f40000gn/T/ipykernel_19467/879791875.py:7: FutureWarning: X.dtype being converted to np.float32 from int64. In the next version of anndata (0.9) conversion will not be automatic. Pass dtype explicitly to avoid this warning. Pass `AnnData(X, dtype=X.dtype, ...)` to get the future behavour.\n",
      "  adata = anndata.AnnData(X=counts, obs=cells, var=regions)\n",
      "/Users/veronateo/opt/anaconda3/envs/scvi-tools-dev/lib/python3.10/site-packages/anndata/_core/anndata.py:121: ImplicitModificationWarning: Transforming to str index.\n",
      "  warnings.warn(\"Transforming to str index.\", ImplicitModificationWarning)\n"
     ]
    },
    {
     "data": {
      "text/plain": [
       "AnnData object with n_obs × n_vars = 4585 × 115554\n",
       "    obs: 'barcodes'\n",
       "    var: 'chr', 'start', 'end'"
      ]
     },
     "execution_count": 9,
     "metadata": {},
     "output_type": "execute_result"
    }
   ],
   "source": [
    "# read the count matrix into a sparse matrix, and the cell and region annotations as pandas DataFrames\n",
    "counts = scipy.io.mmread(\"filtered_peak_bc_matrix/matrix.mtx\").T\n",
    "regions = pd.read_csv(\"filtered_peak_bc_matrix/peaks.bed\", sep='\\t', header=None, names=['chr','start','end'])\n",
    "cells = pd.read_csv(\"filtered_peak_bc_matrix/barcodes.tsv\", header=None, names=['barcodes'])\n",
    "\n",
    "# then initialize a new AnnData object\n",
    "adata = anndata.AnnData(X=counts, obs=cells, var=regions)\n",
    "adata"
   ]
  },
  {
   "cell_type": "code",
   "execution_count": 10,
   "metadata": {},
   "outputs": [
    {
     "data": {
      "text/plain": [
       "AnnData object with n_obs × n_vars = 4585 × 115554\n",
       "    obs: 'barcodes'\n",
       "    var: 'chr', 'start', 'end'"
      ]
     },
     "execution_count": 10,
     "metadata": {},
     "output_type": "execute_result"
    }
   ],
   "source": [
    "adata"
   ]
  },
  {
   "cell_type": "code",
   "execution_count": 11,
   "metadata": {},
   "outputs": [],
   "source": [
    "# do i need this?\n",
    "\n",
    "def sequence_code(seq, seq_len):\n",
    "    # get middle seq_len nucleotides\n",
    "    if seq_len is None:\n",
    "        seq_start = 0\n",
    "        seq_len = len(seq)\n",
    "    else:\n",
    "        if seq_len <= len(seq):\n",
    "            seq_start = 0\n",
    "            seq_trim = (len(seq) - seq_len) // 2\n",
    "            seq = seq[seq_trim:seq_trim+seq_len]\n",
    "        else:\n",
    "            seq_start = (seq_len - len(seq)) // 2\n",
    "    seq = seq.upper()\n",
    "\n",
    "    # initialize seq_code\n",
    "    seq_code = np.zeros((seq_len, ), dtype=\"int8\")\n",
    "\n",
    "    # sequence code matrix: seq_len x 4\n",
    "    for i in range(seq_len):\n",
    "        if i >= seq_start and i - seq_start < len(seq):\n",
    "            nt = seq[i - seq_start]\n",
    "            if nt == \"A\":\n",
    "                seq_code[i] = 0\n",
    "            elif nt == \"C\":\n",
    "                seq_code[i] = 1\n",
    "            elif nt == \"G\":\n",
    "                seq_code[i] = 2\n",
    "            elif nt == \"T\":\n",
    "                seq_code[i] = 3\n",
    "            else:\n",
    "                seq_code[i] = random.randint(0, 3)\n",
    "    # 4 x seq_len\n",
    "    return seq_code.T"
   ]
  },
  {
   "cell_type": "code",
   "execution_count": 12,
   "metadata": {},
   "outputs": [
    {
     "data": {
      "text/plain": [
       "array([1, 2, 3, 2, 1, 0, 3, 3, 1, 2], dtype=int8)"
      ]
     },
     "execution_count": 12,
     "metadata": {},
     "output_type": "execute_result"
    }
   ],
   "source": [
    "sequence_code('ATCGTGCATTCGAT', 10)"
   ]
  },
  {
   "cell_type": "code",
   "execution_count": 13,
   "metadata": {},
   "outputs": [
    {
     "data": {
      "text/html": [
       "<div>\n",
       "<style scoped>\n",
       "    .dataframe tbody tr th:only-of-type {\n",
       "        vertical-align: middle;\n",
       "    }\n",
       "\n",
       "    .dataframe tbody tr th {\n",
       "        vertical-align: top;\n",
       "    }\n",
       "\n",
       "    .dataframe thead th {\n",
       "        text-align: right;\n",
       "    }\n",
       "</style>\n",
       "<table border=\"1\" class=\"dataframe\">\n",
       "  <thead>\n",
       "    <tr style=\"text-align: right;\">\n",
       "      <th></th>\n",
       "      <th>chr</th>\n",
       "      <th>start</th>\n",
       "      <th>end</th>\n",
       "    </tr>\n",
       "  </thead>\n",
       "  <tbody>\n",
       "    <tr>\n",
       "      <th>0</th>\n",
       "      <td>chr1</td>\n",
       "      <td>10404</td>\n",
       "      <td>10411</td>\n",
       "    </tr>\n",
       "    <tr>\n",
       "      <th>1</th>\n",
       "      <td>chr1</td>\n",
       "      <td>237567</td>\n",
       "      <td>237947</td>\n",
       "    </tr>\n",
       "    <tr>\n",
       "      <th>2</th>\n",
       "      <td>chr1</td>\n",
       "      <td>565116</td>\n",
       "      <td>565538</td>\n",
       "    </tr>\n",
       "    <tr>\n",
       "      <th>3</th>\n",
       "      <td>chr1</td>\n",
       "      <td>569178</td>\n",
       "      <td>569639</td>\n",
       "    </tr>\n",
       "    <tr>\n",
       "      <th>4</th>\n",
       "      <td>chr1</td>\n",
       "      <td>713460</td>\n",
       "      <td>715296</td>\n",
       "    </tr>\n",
       "    <tr>\n",
       "      <th>...</th>\n",
       "      <td>...</td>\n",
       "      <td>...</td>\n",
       "      <td>...</td>\n",
       "    </tr>\n",
       "    <tr>\n",
       "      <th>115549</th>\n",
       "      <td>chrY</td>\n",
       "      <td>23602417</td>\n",
       "      <td>23602787</td>\n",
       "    </tr>\n",
       "    <tr>\n",
       "      <th>115550</th>\n",
       "      <td>chrY</td>\n",
       "      <td>23898794</td>\n",
       "      <td>23899450</td>\n",
       "    </tr>\n",
       "    <tr>\n",
       "      <th>115551</th>\n",
       "      <td>chrY</td>\n",
       "      <td>28816591</td>\n",
       "      <td>28817535</td>\n",
       "    </tr>\n",
       "    <tr>\n",
       "      <th>115552</th>\n",
       "      <td>chrY</td>\n",
       "      <td>58827188</td>\n",
       "      <td>58827516</td>\n",
       "    </tr>\n",
       "    <tr>\n",
       "      <th>115553</th>\n",
       "      <td>chrY</td>\n",
       "      <td>58855909</td>\n",
       "      <td>58856257</td>\n",
       "    </tr>\n",
       "  </tbody>\n",
       "</table>\n",
       "<p>115554 rows × 3 columns</p>\n",
       "</div>"
      ],
      "text/plain": [
       "         chr     start       end\n",
       "0       chr1     10404     10411\n",
       "1       chr1    237567    237947\n",
       "2       chr1    565116    565538\n",
       "3       chr1    569178    569639\n",
       "4       chr1    713460    715296\n",
       "...      ...       ...       ...\n",
       "115549  chrY  23602417  23602787\n",
       "115550  chrY  23898794  23899450\n",
       "115551  chrY  28816591  28817535\n",
       "115552  chrY  58827188  58827516\n",
       "115553  chrY  58855909  58856257\n",
       "\n",
       "[115554 rows x 3 columns]"
      ]
     },
     "execution_count": 13,
     "metadata": {},
     "output_type": "execute_result"
    }
   ],
   "source": [
    "adata.var"
   ]
  },
  {
   "cell_type": "code",
   "execution_count": 16,
   "metadata": {},
   "outputs": [
    {
     "data": {
      "text/plain": [
       "AxisArrays with keys: "
      ]
     },
     "execution_count": 16,
     "metadata": {},
     "output_type": "execute_result"
    }
   ],
   "source": [
    "adata.varm"
   ]
  },
  {
   "cell_type": "code",
   "execution_count": 14,
   "metadata": {},
   "outputs": [],
   "source": [
    "# @static_method\n",
    "def add_sequence_to_adata(adata: AnnData, \n",
    "                          fasta_file: Path, \n",
    "                          seq_len: int, \n",
    "                          chr_var_key: str='chr',\n",
    "                          start_var_key: str='start',\n",
    "                          end_var_key: str='end',\n",
    "                          sequence_varm_key='sequence', \n",
    "                          code_varm_key='code'\n",
    "                         ) -> None:\n",
    "    # assume we start with the annData object\n",
    "        # read_10_atac returns anndata object, where var=coordinates, obs=cell annotations\n",
    "\n",
    "    # get fasta file\n",
    "    fasta_open = pysam.Fastafile(fasta_file)\n",
    "    \n",
    "    seqs_dna = []\n",
    "    seqs_coords = []\n",
    "\n",
    "    for i in range(adata.shape[1]):\n",
    "        chr = adata.var.loc[i, chr_var_key]\n",
    "        start = int(adata.var.loc[i, start_var_key])\n",
    "        end = int(adata.var.loc[i, end_var_key])\n",
    "\n",
    "        # determine sequence limits\n",
    "        mid = (start + end) // 2\n",
    "        seq_start = mid - seq_len // 2\n",
    "        seq_end = seq_start + seq_len\n",
    "\n",
    "        seqs_coords.append((chr, seq_start, seq_end))\n",
    "\n",
    "        # initialize sequence\n",
    "        dna = \"\"\n",
    "\n",
    "        # get dna\n",
    "        dna += fasta_open.fetch(chr, seq_start, seq_end).upper()\n",
    "        seqs_dna.append(dna)\n",
    "\n",
    "    fasta_open.close()\n",
    "\n",
    "\n",
    "    # function for sequence --> sequence codes\n",
    "    # initialize seq_code\n",
    "    seq_code = np.zeros((seq_len, ), dtype=\"int8\")\n",
    "\n",
    "    # sequence code matrix: seq_len x 4\n",
    "    for i in range(seq_len):\n",
    "        if i >= seq_start and i - seq_start < len(seqs_dna):\n",
    "            nt = seqs_dna[i - seq_start]\n",
    "            if nt == \"A\":\n",
    "                seq_code[i] = 0\n",
    "            elif nt == \"C\":\n",
    "                seq_code[i] = 1\n",
    "            elif nt == \"G\":\n",
    "                seq_code[i] = 2\n",
    "            elif nt == \"T\":\n",
    "                seq_code[i] = 3\n",
    "            else:\n",
    "                seq_code[i] = random.randint(0, 3)\n",
    "    # 4 x seq_len\n",
    "    seqs_dna_code = seq_code # or seq_code.T?\n",
    "\n",
    "    # add seqs and codes to adata.varm\n",
    "    adata.varm[sequence_varm_key] = seqs_dna\n",
    "    adata.varm[code_varm_key] = seqs_dna_code"
   ]
  },
  {
   "cell_type": "code",
   "execution_count": 15,
   "metadata": {},
   "outputs": [
    {
     "ename": "KeyError",
     "evalue": "0",
     "output_type": "error",
     "traceback": [
      "\u001b[0;31m---------------------------------------------------------------------------\u001b[0m",
      "\u001b[0;31mKeyError\u001b[0m                                  Traceback (most recent call last)",
      "File \u001b[0;32m~/opt/anaconda3/envs/scvi-tools-dev/lib/python3.10/site-packages/pandas/core/indexes/base.py:3800\u001b[0m, in \u001b[0;36mIndex.get_loc\u001b[0;34m(self, key, method, tolerance)\u001b[0m\n\u001b[1;32m   3799\u001b[0m \u001b[39mtry\u001b[39;00m:\n\u001b[0;32m-> 3800\u001b[0m     \u001b[39mreturn\u001b[39;00m \u001b[39mself\u001b[39;49m\u001b[39m.\u001b[39;49m_engine\u001b[39m.\u001b[39;49mget_loc(casted_key)\n\u001b[1;32m   3801\u001b[0m \u001b[39mexcept\u001b[39;00m \u001b[39mKeyError\u001b[39;00m \u001b[39mas\u001b[39;00m err:\n",
      "File \u001b[0;32m~/opt/anaconda3/envs/scvi-tools-dev/lib/python3.10/site-packages/pandas/_libs/index.pyx:138\u001b[0m, in \u001b[0;36mpandas._libs.index.IndexEngine.get_loc\u001b[0;34m()\u001b[0m\n",
      "File \u001b[0;32m~/opt/anaconda3/envs/scvi-tools-dev/lib/python3.10/site-packages/pandas/_libs/index.pyx:165\u001b[0m, in \u001b[0;36mpandas._libs.index.IndexEngine.get_loc\u001b[0;34m()\u001b[0m\n",
      "File \u001b[0;32mpandas/_libs/hashtable_class_helper.pxi:5745\u001b[0m, in \u001b[0;36mpandas._libs.hashtable.PyObjectHashTable.get_item\u001b[0;34m()\u001b[0m\n",
      "File \u001b[0;32mpandas/_libs/hashtable_class_helper.pxi:5753\u001b[0m, in \u001b[0;36mpandas._libs.hashtable.PyObjectHashTable.get_item\u001b[0;34m()\u001b[0m\n",
      "\u001b[0;31mKeyError\u001b[0m: 0",
      "\nThe above exception was the direct cause of the following exception:\n",
      "\u001b[0;31mKeyError\u001b[0m                                  Traceback (most recent call last)",
      "Cell \u001b[0;32mIn [15], line 1\u001b[0m\n\u001b[0;32m----> 1\u001b[0m \u001b[43madd_sequence_to_adata\u001b[49m\u001b[43m(\u001b[49m\u001b[43madata\u001b[49m\u001b[43m,\u001b[49m\u001b[43m \u001b[49m\u001b[43mfasta_file\u001b[49m\u001b[38;5;241;43m=\u001b[39;49m\u001b[43mfasta_path\u001b[49m\u001b[43m,\u001b[49m\u001b[43m \u001b[49m\u001b[43mseq_len\u001b[49m\u001b[38;5;241;43m=\u001b[39;49m\u001b[38;5;241;43m1344\u001b[39;49m\u001b[43m)\u001b[49m\n",
      "Cell \u001b[0;32mIn [14], line 21\u001b[0m, in \u001b[0;36madd_sequence_to_adata\u001b[0;34m(adata, fasta_file, seq_len, chr_var_key, start_var_key, end_var_key, sequence_varm_key, code_varm_key)\u001b[0m\n\u001b[1;32m     18\u001b[0m seqs_coords \u001b[38;5;241m=\u001b[39m []\n\u001b[1;32m     20\u001b[0m \u001b[38;5;28;01mfor\u001b[39;00m i \u001b[38;5;129;01min\u001b[39;00m \u001b[38;5;28mrange\u001b[39m(adata\u001b[38;5;241m.\u001b[39mshape[\u001b[38;5;241m1\u001b[39m]):\n\u001b[0;32m---> 21\u001b[0m     \u001b[38;5;28mchr\u001b[39m \u001b[38;5;241m=\u001b[39m \u001b[43madata\u001b[49m\u001b[38;5;241;43m.\u001b[39;49m\u001b[43mvar\u001b[49m\u001b[38;5;241;43m.\u001b[39;49m\u001b[43mloc\u001b[49m\u001b[43m[\u001b[49m\u001b[43mi\u001b[49m\u001b[43m,\u001b[49m\u001b[43m \u001b[49m\u001b[43mchr_var_key\u001b[49m\u001b[43m]\u001b[49m\n\u001b[1;32m     22\u001b[0m     start \u001b[38;5;241m=\u001b[39m \u001b[38;5;28mint\u001b[39m(adata\u001b[38;5;241m.\u001b[39mvar\u001b[38;5;241m.\u001b[39mloc[i, start_var_key])\n\u001b[1;32m     23\u001b[0m     end \u001b[38;5;241m=\u001b[39m \u001b[38;5;28mint\u001b[39m(adata\u001b[38;5;241m.\u001b[39mvar\u001b[38;5;241m.\u001b[39mloc[i, end_var_key])\n",
      "File \u001b[0;32m~/opt/anaconda3/envs/scvi-tools-dev/lib/python3.10/site-packages/pandas/core/indexing.py:1067\u001b[0m, in \u001b[0;36m_LocationIndexer.__getitem__\u001b[0;34m(self, key)\u001b[0m\n\u001b[1;32m   1065\u001b[0m     key \u001b[39m=\u001b[39m \u001b[39mtuple\u001b[39m(com\u001b[39m.\u001b[39mapply_if_callable(x, \u001b[39mself\u001b[39m\u001b[39m.\u001b[39mobj) \u001b[39mfor\u001b[39;00m x \u001b[39min\u001b[39;00m key)\n\u001b[1;32m   1066\u001b[0m     \u001b[39mif\u001b[39;00m \u001b[39mself\u001b[39m\u001b[39m.\u001b[39m_is_scalar_access(key):\n\u001b[0;32m-> 1067\u001b[0m         \u001b[39mreturn\u001b[39;00m \u001b[39mself\u001b[39;49m\u001b[39m.\u001b[39;49mobj\u001b[39m.\u001b[39;49m_get_value(\u001b[39m*\u001b[39;49mkey, takeable\u001b[39m=\u001b[39;49m\u001b[39mself\u001b[39;49m\u001b[39m.\u001b[39;49m_takeable)\n\u001b[1;32m   1068\u001b[0m     \u001b[39mreturn\u001b[39;00m \u001b[39mself\u001b[39m\u001b[39m.\u001b[39m_getitem_tuple(key)\n\u001b[1;32m   1069\u001b[0m \u001b[39melse\u001b[39;00m:\n\u001b[1;32m   1070\u001b[0m     \u001b[39m# we by definition only have the 0th axis\u001b[39;00m\n",
      "File \u001b[0;32m~/opt/anaconda3/envs/scvi-tools-dev/lib/python3.10/site-packages/pandas/core/frame.py:3922\u001b[0m, in \u001b[0;36mDataFrame._get_value\u001b[0;34m(self, index, col, takeable)\u001b[0m\n\u001b[1;32m   3916\u001b[0m engine \u001b[39m=\u001b[39m \u001b[39mself\u001b[39m\u001b[39m.\u001b[39mindex\u001b[39m.\u001b[39m_engine\n\u001b[1;32m   3918\u001b[0m \u001b[39mif\u001b[39;00m \u001b[39mnot\u001b[39;00m \u001b[39misinstance\u001b[39m(\u001b[39mself\u001b[39m\u001b[39m.\u001b[39mindex, MultiIndex):\n\u001b[1;32m   3919\u001b[0m     \u001b[39m# CategoricalIndex: Trying to use the engine fastpath may give incorrect\u001b[39;00m\n\u001b[1;32m   3920\u001b[0m     \u001b[39m#  results if our categories are integers that dont match our codes\u001b[39;00m\n\u001b[1;32m   3921\u001b[0m     \u001b[39m# IntervalIndex: IntervalTree has no get_loc\u001b[39;00m\n\u001b[0;32m-> 3922\u001b[0m     row \u001b[39m=\u001b[39m \u001b[39mself\u001b[39;49m\u001b[39m.\u001b[39;49mindex\u001b[39m.\u001b[39;49mget_loc(index)\n\u001b[1;32m   3923\u001b[0m     \u001b[39mreturn\u001b[39;00m series\u001b[39m.\u001b[39m_values[row]\n\u001b[1;32m   3925\u001b[0m \u001b[39m# For MultiIndex going through engine effectively restricts us to\u001b[39;00m\n\u001b[1;32m   3926\u001b[0m \u001b[39m#  same-length tuples; see test_get_set_value_no_partial_indexing\u001b[39;00m\n",
      "File \u001b[0;32m~/opt/anaconda3/envs/scvi-tools-dev/lib/python3.10/site-packages/pandas/core/indexes/base.py:3802\u001b[0m, in \u001b[0;36mIndex.get_loc\u001b[0;34m(self, key, method, tolerance)\u001b[0m\n\u001b[1;32m   3800\u001b[0m     \u001b[39mreturn\u001b[39;00m \u001b[39mself\u001b[39m\u001b[39m.\u001b[39m_engine\u001b[39m.\u001b[39mget_loc(casted_key)\n\u001b[1;32m   3801\u001b[0m \u001b[39mexcept\u001b[39;00m \u001b[39mKeyError\u001b[39;00m \u001b[39mas\u001b[39;00m err:\n\u001b[0;32m-> 3802\u001b[0m     \u001b[39mraise\u001b[39;00m \u001b[39mKeyError\u001b[39;00m(key) \u001b[39mfrom\u001b[39;00m \u001b[39merr\u001b[39;00m\n\u001b[1;32m   3803\u001b[0m \u001b[39mexcept\u001b[39;00m \u001b[39mTypeError\u001b[39;00m:\n\u001b[1;32m   3804\u001b[0m     \u001b[39m# If we have a listlike key, _check_indexing_error will raise\u001b[39;00m\n\u001b[1;32m   3805\u001b[0m     \u001b[39m#  InvalidIndexError. Otherwise we fall through and re-raise\u001b[39;00m\n\u001b[1;32m   3806\u001b[0m     \u001b[39m#  the TypeError.\u001b[39;00m\n\u001b[1;32m   3807\u001b[0m     \u001b[39mself\u001b[39m\u001b[39m.\u001b[39m_check_indexing_error(key)\n",
      "\u001b[0;31mKeyError\u001b[0m: 0"
     ]
    }
   ],
   "source": [
    "add_sequence_to_adata(adata, fasta_file=fasta_path, seq_len=1344)"
   ]
  },
  {
   "cell_type": "code",
   "execution_count": null,
   "metadata": {},
   "outputs": [],
   "source": [
    "# def sparse(adata, h5_name, fasta_file, seq_len, batch_size):\n",
    "#     ad = read_10x_atac(adata)\n",
    "#     n_peaks = ad.shape[1]\n",
    "#     bed_df = ad.var.loc[:, ['chr', 'start', 'end']] # bed file\n",
    "#     bed_df.index = np.arange(bed_df.shape[0])\n",
    "#     n_batch = int(np.floor(n_peaks / batch_size))\n",
    "#     batches = np.array_split(np.arange(n_peaks), n_batch)"
   ]
  },
  {
   "cell_type": "markdown",
   "metadata": {},
   "source": [
    "## model\n",
    "- take transpose: bdata = adata.transpose()\n",
    "- use anndataloader\n",
    "    - x.varm['codes'] --> ADL --> for md in ADL: mb['codes'] (regions x 1334 x 4 matrix) and mb['x'] (loss)"
   ]
  },
  {
   "cell_type": "code",
   "execution_count": 17,
   "metadata": {},
   "outputs": [],
   "source": [
    "# annDataLoader\n",
    "from scvi.dataloaders import AnnDataLoader"
   ]
  },
  {
   "cell_type": "code",
   "execution_count": null,
   "metadata": {},
   "outputs": [],
   "source": [
    "class CNN(nn.Module):\n",
    "    def cnn(n_cells, seq_len=1344, bottleneck_size):\n",
    "        \"\"\"cnn\"\"\"\n",
    "        def conv_tower(inputs, filters_init, filters_end=None, filters_mult=None, divisible_by=1, repeat=1, **kwargs):\n",
    "            \"\"\"this function was taken from scbasset\"\"\"\n",
    "            def round(x):\n",
    "                return int(np.round(x / divisible_by) * divisible_by)\n",
    "        \n",
    "            current = inputs\n",
    "            rep_filters = filters_init\n",
    "\n",
    "            if filters_mult is None:\n",
    "                filters_mult = np.exp(np.log(filters_end / filters_init) / (repeat - 1))\n",
    "\n",
    "            for i in range(repeat):\n",
    "                current = nn.Conv1d(in_channels=current, filters=round(rep_filters), **kwargs)\n",
    "                rep_filters *= filters_mult\n",
    "\n",
    "            return current\n",
    "\n",
    "\n",
    "        def __init__(self):\n",
    "            super(CNN, self).__init__()\n",
    "            # input_shape=(seq_len=1344, 4) so input shape is 1344x4\n",
    "            # stochasticshift(3)?\n",
    "\n",
    "            # for in_channels, we want [batch_size, seq_length, features], in_channels = 3?\n",
    "            self.conv1 = nn.Conv1d(in_channels=3, out_channels=288, kernel_size=17)\n",
    "            # self.pool = nn.MaxPool1d(kernel_size=3)\n",
    "            \n",
    "            # conv tower (reducing conv blocks) ?\n",
    "            self.conv2 = conv_tower(inputs=__, filters_init=288, filters_mult=1.122, repeat=6, kernel_size=5)\n",
    "            # conv block\n",
    "            self.conv3 = nn.Conv1d(in_channels=___, out_channels=256, kernel_size=1)\n",
    "\n",
    "            # dense conv block (linear)\n",
    "            # self.fc1 = nn.Linear(in_features=__, out_features=bottleneck_size)\n",
    "            # self.fc2 = nn.Linear(in_features=bottleneck_size, out_features=n_cells)\n",
    "\n",
    "            self.fc1 = scvi.nn.FCLayers(n_in=__, in_out=bottleneck_size, dropout_rate=0.2, activation_fn=F.gelu)\n",
    "            self.fc2 = scvi.nn.FCLayers(n_in=bottleneck_size, in_out=n_cells, dropout_rate=0.2, activation_fn=F.gelu)\n",
    "\n",
    "            # switchreverse?\n",
    "\n",
    "\n",
    "        def forward(self, x):\n",
    "            x = F.gelu(self.conv1(x))\n",
    "            x = F.max_pool1d(x, 3)\n",
    "            x = F.gelu(self.conv2(x))\n",
    "            x = F.max_pool1d(x, 2)\n",
    "            x = F.gelu(self.conv3(x))\n",
    "            x = F.max_pool1d(x, 1)\n",
    "            x = F.gelu(self.fc1(x))\n",
    "            # x = F.dropout(x, p=0.2)\n",
    "            x = F.sigmoid(self.fc2(x))\n",
    "\n",
    "            return x\n"
   ]
  }
 ],
 "metadata": {
  "kernelspec": {
   "display_name": "Python 3.10.6",
   "language": "python",
   "name": "python3"
  },
  "language_info": {
   "codemirror_mode": {
    "name": "ipython",
    "version": 3
   },
   "file_extension": ".py",
   "mimetype": "text/x-python",
   "name": "python",
   "nbconvert_exporter": "python",
   "pygments_lexer": "ipython3",
   "version": "3.10.6"
  },
  "orig_nbformat": 4,
  "vscode": {
   "interpreter": {
    "hash": "deef56ba3f614a914d584b3225bee90e513a23e8d8818cdca8308bf06706511a"
   }
  }
 },
 "nbformat": 4,
 "nbformat_minor": 2
}
